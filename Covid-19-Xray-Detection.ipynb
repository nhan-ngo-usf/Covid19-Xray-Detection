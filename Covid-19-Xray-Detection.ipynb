{
 "cells": [
  {
   "cell_type": "code",
   "execution_count": 6,
   "metadata": {},
   "outputs": [],
   "source": [
    "# Importing the equivalent library to tensorflow.python.keras.preprocessing.image\n",
    "from tensorflow.keras.preprocessing import image\n",
    "from tensorflow.keras.layers import *\n",
    "from tensorflow.keras.models import *\n"
   ]
  },
  {
   "cell_type": "code",
   "execution_count": 7,
   "metadata": {},
   "outputs": [
    {
     "name": "stdout",
     "output_type": "stream",
     "text": [
      "Model: \"sequential\"\n",
      "_________________________________________________________________\n",
      " Layer (type)                Output Shape              Param #   \n",
      "=================================================================\n",
      " conv2d (Conv2D)             (None, 222, 222, 32)      896       \n",
      "                                                                 \n",
      " conv2d_1 (Conv2D)           (None, 220, 220, 64)      18496     \n",
      "                                                                 \n",
      " max_pooling2d (MaxPooling2  (None, 110, 110, 64)      0         \n",
      " D)                                                              \n",
      "                                                                 \n",
      " dropout (Dropout)           (None, 110, 110, 64)      0         \n",
      "                                                                 \n",
      " conv2d_2 (Conv2D)           (None, 108, 108, 128)     73856     \n",
      "                                                                 \n",
      " max_pooling2d_1 (MaxPoolin  (None, 54, 54, 128)       0         \n",
      " g2D)                                                            \n",
      "                                                                 \n",
      " dropout_1 (Dropout)         (None, 54, 54, 128)       0         \n",
      "                                                                 \n",
      " flatten (Flatten)           (None, 373248)            0         \n",
      "                                                                 \n",
      " dense (Dense)               (None, 64)                23887936  \n",
      "                                                                 \n",
      " dropout_2 (Dropout)         (None, 64)                0         \n",
      "                                                                 \n",
      " dense_1 (Dense)             (None, 1)                 65        \n",
      "                                                                 \n",
      "=================================================================\n",
      "Total params: 23981249 (91.48 MB)\n",
      "Trainable params: 23981249 (91.48 MB)\n",
      "Non-trainable params: 0 (0.00 Byte)\n",
      "_________________________________________________________________\n"
     ]
    }
   ],
   "source": [
    "model = Sequential()\n",
    "model.add(Conv2D(32, kernel_size=(3,3), activation='relu', input_shape=(224,224,3)))\n",
    "model.add(Conv2D(64, kernel_size=(3,3), activation='relu'))\n",
    "model.add(MaxPooling2D(pool_size=(2,2)))\n",
    "model.add(Dropout(0.25))\n",
    "model.add(Conv2D(128, kernel_size=(3,3), activation='relu'))\n",
    "model.add(MaxPooling2D(pool_size=(2,2)))\n",
    "model.add(Dropout(0.25))\n",
    "model.add(Flatten())\n",
    "model.add(Dense(64, activation='relu'))\n",
    "model.add(Dropout(0.5))\n",
    "model.add(Dense(1, activation='sigmoid'))\n",
    "model.compile(loss='binary_crossentropy', optimizer='adam', metrics=['accuracy'])\n",
    "model.summary()          "
   ]
  },
  {
   "cell_type": "code",
   "execution_count": 8,
   "metadata": {},
   "outputs": [
    {
     "name": "stdout",
     "output_type": "stream",
     "text": [
      "Created the Data Generator Objects.\n"
     ]
    }
   ],
   "source": [
    "#Processing the images\n",
    "train_datagen = image.ImageDataGenerator(rescale=1./255, shear_range=0.2, zoom_range=0.2, horizontal_flip=True)\n",
    "test_datagen = image.ImageDataGenerator(rescale = 1./255)\n",
    "\n",
    "print('Created the Data Generator Objects.')"
   ]
  },
  {
   "cell_type": "code",
   "execution_count": 9,
   "metadata": {},
   "outputs": [
    {
     "name": "stdout",
     "output_type": "stream",
     "text": [
      "Found 224 images belonging to 2 classes.\n",
      "Found 60 images belonging to 2 classes.\n"
     ]
    }
   ],
   "source": [
    "# Load the dataset\n",
    "train_generator = train_datagen.flow_from_directory('CovidDataset/Train',target_size=(224,224),batch_size=32, class_mode=\"binary\")\n",
    "val_generator = test_datagen.flow_from_directory('CovidDataset/Val',target_size=(224,224),batch_size=32, class_mode=\"binary\")"
   ]
  },
  {
   "cell_type": "code",
   "execution_count": 10,
   "metadata": {},
   "outputs": [
    {
     "name": "stdout",
     "output_type": "stream",
     "text": [
      "Epoch 1/6\n",
      "7/7 [==============================] - 15s 2s/step - loss: 1.8239 - accuracy: 0.5714 - val_loss: 0.6577 - val_accuracy: 0.9500\n",
      "Epoch 2/6\n",
      "7/7 [==============================] - 14s 2s/step - loss: 0.6473 - accuracy: 0.6473 - val_loss: 0.6259 - val_accuracy: 0.8500\n",
      "Epoch 3/6\n",
      "7/7 [==============================] - 14s 2s/step - loss: 0.4149 - accuracy: 0.8348 - val_loss: 0.2409 - val_accuracy: 0.9500\n",
      "Epoch 4/6\n"
     ]
    }
   ],
   "source": [
    "# Train the model\n",
    "hist = model.fit(train_generator, epochs = 6, validation_data=val_generator, validation_steps=2)"
   ]
  },
  {
   "cell_type": "code",
   "execution_count": null,
   "metadata": {},
   "outputs": [],
   "source": [
    "from tensorflow.keras import backend as K\n",
    "K.clear_session()"
   ]
  }
 ],
 "metadata": {
  "kernelspec": {
   "display_name": "Python 3",
   "language": "python",
   "name": "python3"
  },
  "language_info": {
   "codemirror_mode": {
    "name": "ipython",
    "version": 3
   },
   "file_extension": ".py",
   "mimetype": "text/x-python",
   "name": "python",
   "nbconvert_exporter": "python",
   "pygments_lexer": "ipython3",
   "version": "3.11.0"
  }
 },
 "nbformat": 4,
 "nbformat_minor": 2
}
